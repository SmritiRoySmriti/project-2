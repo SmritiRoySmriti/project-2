{
 "cells": [
  {
   "cell_type": "code",
   "execution_count": 4,
   "id": "662a7698-20b8-4862-8196-4fc1fbbdc2fe",
   "metadata": {},
   "outputs": [
    {
     "name": "stdout",
     "output_type": "stream",
     "text": [
      "Hello World This Is A Test\n"
     ]
    }
   ],
   "source": [
    "def custom_capitalize(sentence):\n",
    "    result = \"\"\n",
    "    i = 0\n",
    "    while i < len(sentence):\n",
    "        if (i == 0 or sentence[i - 1] == ' ') and 'a' <= sentence[i] <= 'z':\n",
    "            # Convert to uppercase\n",
    "            result += chr(ord(sentence[i]) - 32)\n",
    "        elif i > 0 and sentence[i - 1] != ' ' and 'A' <= sentence[i] <= 'Z':\n",
    "            # Convert to lowercase\n",
    "            result += chr(ord(sentence[i]) + 32)\n",
    "        else:\n",
    "            result += sentence[i]\n",
    "        i += 1\n",
    "    return result \n",
    "# Example usage:\n",
    "input_sentence = \"heLLo WoRLd this is A tEsT\"\n",
    "print(custom_capitalize(input_sentence))\n"
   ]
  },
  {
   "cell_type": "code",
   "execution_count": 1,
   "id": "aa81db52-5523-459b-ad44-c3faf2a71008",
   "metadata": {},
   "outputs": [
    {
     "name": "stdout",
     "output_type": "stream",
     "text": [
      "3\n"
     ]
    }
   ],
   "source": [
    "def count_vowels(s):\n",
    "    vowels = \"aeiouAEIOU\"\n",
    "    return sum(1 for char in s if char in vowels)\n",
    "\n",
    "# Example usage\n",
    "input_string = \"Hello World\"\n",
    "print(count_vowels(input_string))"
   ]
  },
  {
   "cell_type": "code",
   "execution_count": 2,
   "id": "6d319dfa-6fe1-4194-afeb-3ffecac58197",
   "metadata": {},
   "outputs": [
    {
     "name": "stdin",
     "output_type": "stream",
     "text": [
      "Enter the marks:  90\n"
     ]
    },
    {
     "name": "stdout",
     "output_type": "stream",
     "text": [
      "The grade for 90.0 marks is: Grade A\n"
     ]
    }
   ],
   "source": [
    "def assign_grade(marks):\n",
    "    if marks >= 90:\n",
    "        return \"Grade A\"\n",
    "    elif marks >= 75:\n",
    "        return \"Grade B\"\n",
    "    elif marks >= 60:\n",
    "        return \"Grade C\"\n",
    "    else:\n",
    "        return \"Grade F\"\n",
    "\n",
    "# Example usage\n",
    "marks = float(input(\"Enter the marks: \"))\n",
    "grade = assign_grade(marks)\n",
    "print(f\"The grade for {marks} marks is: {grade}\")"
   ]
  },
  {
   "cell_type": "code",
   "execution_count": 2,
   "id": "a14cbc86-e359-4793-bd15-2e12ff27de06",
   "metadata": {},
   "outputs": [
    {
     "name": "stdout",
     "output_type": "stream",
     "text": [
      "2\n",
      "3\n",
      "5\n",
      "7\n",
      "11\n",
      "13\n",
      "17\n",
      "19\n",
      "23\n",
      "29\n",
      "31\n",
      "37\n",
      "41\n",
      "43\n",
      "47\n",
      "53\n",
      "59\n",
      "61\n",
      "67\n",
      "71\n",
      "73\n",
      "79\n",
      "83\n",
      "89\n",
      "97\n"
     ]
    }
   ],
   "source": [
    "# Loop through numbers from 2 to 100\n",
    "for num in range(2, 101):\n",
    "    is_prime = True  # Assume the number is prime\n",
    "\n",
    "    # Check if num has any divisors other than 1 and itself\n",
    "    for i in range(2, int(num ** 0.5) + 1):  # Only check up to sqrt(num)\n",
    "        if num % i == 0:\n",
    "            is_prime = False  # num is divisible by i, so not prime\n",
    "            break  # No need to check further\n",
    "\n",
    "    # If is_prime is still True, it's a prime number\n",
    "    if is_prime:\n",
    "        print(num)\n"
   ]
  },
  {
   "cell_type": "code",
   "execution_count": 6,
   "id": "11fd2b37-074a-4ecf-9c13-598a6687ea8b",
   "metadata": {},
   "outputs": [
    {
     "name": "stdout",
     "output_type": "stream",
     "text": [
      "     1 \n",
      "    1 1 \n",
      "   1 2 1 \n",
      "  1 3 3 1 \n",
      " 1 4 6 4 1 \n"
     ]
    }
   ],
   "source": [
    "def generate_pascals_triangle(n):\n",
    "    for row in range(n):\n",
    "        value = 1  # First value in every row is 1\n",
    "        # Print leading spaces for triangle formatting\n",
    "        print(' ' * (n - row), end='')\n",
    "\n",
    "        # Inner loop to calculate values in each row\n",
    "        for col in range(row + 1):\n",
    "            print(value, end=' ')\n",
    "            # Calculate next value in row using the formula:\n",
    "            # C(n, k+1) = C(n, k) * (n-k) / (k+1)\n",
    "            value = value * (row - col) // (col + 1)\n",
    "        print()  # New line after each row\n",
    "generate_pascals_triangle(5)\n",
    "\n"
   ]
  },
  {
   "cell_type": "code",
   "execution_count": 7,
   "id": "d3db1e55-edf7-48ba-8b8c-39862d807362",
   "metadata": {},
   "outputs": [
    {
     "name": "stdout",
     "output_type": "stream",
     "text": [
      "Result of matrix multiplication:\n",
      "[19, 22]\n",
      "[43, 50]\n"
     ]
    }
   ],
   "source": [
    "# Define two square matrices\n",
    "A = [[1, 2],\n",
    "     [3, 4]]\n",
    "\n",
    "B = [[5, 6],\n",
    "     [7, 8]]\n",
    "\n",
    "# Get the size of the matrix (since it's square, rows = columns)\n",
    "n = len(A)\n",
    "\n",
    "# Create an empty result matrix filled with zeros\n",
    "result = [[0] * n for _ in range(n)]\n",
    "\n",
    "# Multiply matrices\n",
    "for i in range(n):\n",
    "    for j in range(n):\n",
    "        for k in range(n):\n",
    "            result[i][j] += A[i][k] * B[k][j]\n",
    "\n",
    "# Print the result\n",
    "print(\"Result of matrix multiplication:\")\n",
    "for row in result:\n",
    "    print(row)\n"
   ]
  },
  {
   "cell_type": "code",
   "execution_count": 8,
   "id": "f169626e-4aaa-43cb-bd07-f03a4c38d33a",
   "metadata": {},
   "outputs": [
    {
     "name": "stdout",
     "output_type": "stream",
     "text": [
      "Distance between the points: 7.0710678118654755\n"
     ]
    }
   ],
   "source": [
    "import math\n",
    "\n",
    "# Coordinates of the two points\n",
    "x1, y1 = 2, 3\n",
    "x2, y2 = 7, 8\n",
    "\n",
    "# Calculate the distance\n",
    "distance = math.sqrt((x2 - x1)**2 + (y2 - y1)**2)\n",
    "\n",
    "# Print the result\n",
    "print(\"Distance between the points:\", distance)\n"
   ]
  },
  {
   "cell_type": "code",
   "execution_count": 11,
   "id": "b579f4b6-058e-410e-a59e-946f5c1065ce",
   "metadata": {},
   "outputs": [
    {
     "name": "stdin",
     "output_type": "stream",
     "text": [
      "Enter a single character:  8\n"
     ]
    },
    {
     "name": "stdout",
     "output_type": "stream",
     "text": [
      "It is a digit.\n"
     ]
    }
   ],
   "source": [
    "# Take a single character input from the user\n",
    "ch = input(\"Enter a single character: \")\n",
    "\n",
    "# Check if only one character is entered\n",
    "if len(ch) != 1:\n",
    "    print(\"Please enter exactly one character.\")\n",
    "else:\n",
    "    # Check using if-elif-else ladder\n",
    "    if ch.isdigit():\n",
    "        print(\"It is a digit.\")\n",
    "    elif ch.islower():\n",
    "        print(\"It is a lowercase letter.\")\n",
    "    elif ch.isupper():\n",
    "        print(\"It is an uppercase letter.\")\n",
    "    else:\n",
    "        print(\"It is a special character.\")\n"
   ]
  },
  {
   "cell_type": "code",
   "execution_count": 13,
   "id": "b721620e-c037-4614-874e-c140ee757f27",
   "metadata": {},
   "outputs": [
    {
     "name": "stdout",
     "output_type": "stream",
     "text": [
      "False\n",
      "True\n",
      "True\n"
     ]
    }
   ],
   "source": [
    "def has_duplicates(lst):\n",
    "    # Convert the list to a set (which removes duplicates)\n",
    "    # If the lengths are different, there were duplicates\n",
    "    return len(lst) != len(set(lst))\n",
    "print(has_duplicates([1, 2, 3, 4]))       \n",
    "print(has_duplicates([1, 2, 3, 2]))       \n",
    "print(has_duplicates(['a', 'b', 'a']))    \n",
    "\n"
   ]
  },
  {
   "cell_type": "code",
   "execution_count": 3,
   "id": "f88be979-59d2-4848-ab9d-057b624aa5cf",
   "metadata": {},
   "outputs": [
    {
     "name": "stdout",
     "output_type": "stream",
     "text": [
      "[1, 4, 9, 16, 25]\n"
     ]
    }
   ],
   "source": [
    "numbers = [1, 2, 3, 4, 5]\n",
    "squared = [x**2 for x in numbers]\n",
    "print(squared)\n"
   ]
  },
  {
   "cell_type": "code",
   "execution_count": 15,
   "id": "f33c2998-7721-4e2e-aaed-d17cdc603ccb",
   "metadata": {},
   "outputs": [
    {
     "name": "stdout",
     "output_type": "stream",
     "text": [
      "Maximum number is: 9\n"
     ]
    }
   ],
   "source": [
    "def find_maximum(lst):\n",
    "    if not lst:\n",
    "        return None  # Handle empty list\n",
    "\n",
    "    max_num = lst[0]  # Assume the first number is the maximum\n",
    "\n",
    "    for num in lst:\n",
    "        if num > max_num:\n",
    "            max_num = num  # Update max_num if a bigger number is found\n",
    "\n",
    "    return max_num\n",
    "numbers = [4, 1, 9, 3, 7]\n",
    "print(\"Maximum number is:\", find_maximum(numbers))"
   ]
  },
  {
   "cell_type": "code",
   "execution_count": 16,
   "id": "124bf6c2-d971-4309-9d28-547b31d1d376",
   "metadata": {},
   "outputs": [
    {
     "name": "stdout",
     "output_type": "stream",
     "text": [
      "[2, 4, 6, 8, 10]\n"
     ]
    }
   ],
   "source": [
    "numbers = [1, 2, 3, 4, 5, 6, 7, 8, 9, 10]\n",
    "even_numbers = [x for x in numbers if x % 2 == 0]\n",
    "print(even_numbers)\n"
   ]
  },
  {
   "cell_type": "code",
   "execution_count": 17,
   "id": "787f2d92-5438-4f4f-a620-01ef830926a5",
   "metadata": {},
   "outputs": [
    {
     "name": "stdin",
     "output_type": "stream",
     "text": [
      "Enter a number (0 to stop):  7\n",
      "Enter a number (0 to stop):  8\n",
      "Enter a number (0 to stop):  5\n",
      "Enter a number (0 to stop):  0\n"
     ]
    },
    {
     "name": "stdout",
     "output_type": "stream",
     "text": [
      "\n",
      "Sum: 20.0\n",
      "Average: 6.666666666666667\n",
      "Maximum: 8.0\n",
      "Minimum: 5.0\n",
      "Standard Deviation: 1.247219128924647\n"
     ]
    }
   ],
   "source": [
    "import math\n",
    "\n",
    "numbers = []\n",
    "num = None\n",
    "\n",
    "while num != 0:\n",
    "    num = float(input(\"Enter a number (0 to stop): \"))\n",
    "    if num != 0:\n",
    "        numbers.append(num)\n",
    "\n",
    "if numbers:\n",
    "    total = sum(numbers)\n",
    "    average = total / len(numbers)\n",
    "    maximum = max(numbers)\n",
    "    minimum = min(numbers)\n",
    "    std_dev = math.sqrt(sum((x - average) ** 2 for x in numbers) / len(numbers))\n",
    "\n",
    "    print(\"\\nSum:\", total)\n",
    "    print(\"Average:\", average)\n",
    "    print(\"Maximum:\", maximum)\n",
    "    print(\"Minimum:\", minimum)\n",
    "    print(\"Standard Deviation:\", std_dev)\n",
    "else:\n",
    "    print(\"No numbers entered.\")\n"
   ]
  },
  {
   "cell_type": "code",
   "execution_count": 19,
   "id": "bff950b3-2644-43bf-9fad-8a63cc51651d",
   "metadata": {},
   "outputs": [
    {
     "name": "stdout",
     "output_type": "stream",
     "text": [
      "False\n",
      "True\n",
      "True\n"
     ]
    }
   ],
   "source": [
    "def has_duplicates(lst):\n",
    "    return len(lst) != len(set(lst))\n",
    "print(has_duplicates([1, 2, 3, 4])) \n",
    "print(has_duplicates([1, 2, 2, 3]))\n",
    "print(has_duplicates(['a', 'b', 'a']))"
   ]
  },
  {
   "cell_type": "code",
   "execution_count": 20,
   "id": "c5d8b1a5-063f-455c-9582-0cfb2ebf18ad",
   "metadata": {},
   "outputs": [
    {
     "name": "stdout",
     "output_type": "stream",
     "text": [
      "[1, 4, 9, 16, 25]\n"
     ]
    }
   ],
   "source": [
    "numbers = [1, 2, 3, 4, 5]\n",
    "squared = [x**2 for x in numbers]\n",
    "print(squared)\n"
   ]
  },
  {
   "cell_type": "code",
   "execution_count": 21,
   "id": "50addbd0-6b06-4f98-8e89-45fd31dc2b4d",
   "metadata": {},
   "outputs": [
    {
     "name": "stdout",
     "output_type": "stream",
     "text": [
      "Even numbers: [2, 4, 6, 8, 10]\n",
      "Odd numbers: [1, 3, 5, 7, 9]\n"
     ]
    }
   ],
   "source": [
    "numbers = [1, 2, 3, 4, 5, 6, 7, 8, 9, 10]\n",
    "\n",
    "# Separate even and odd numbers using list comprehensions\n",
    "even_numbers = [x for x in numbers if x % 2 == 0]\n",
    "odd_numbers = [x for x in numbers if x % 2 != 0]\n",
    "\n",
    "print(\"Even numbers:\", even_numbers)\n",
    "print(\"Odd numbers:\", odd_numbers)\n"
   ]
  },
  {
   "cell_type": "code",
   "execution_count": 22,
   "id": "fdd91d54-7926-4992-a05b-ab446d02fdd8",
   "metadata": {},
   "outputs": [
    {
     "name": "stdout",
     "output_type": "stream",
     "text": [
      "Even numbers: [2, 4, 6, 8, 10]\n"
     ]
    }
   ],
   "source": [
    "numbers = [1, 2, 3, 4, 5, 6, 7, 8, 9, 10]\n",
    "\n",
    "# List comprehension to filter even numbers\n",
    "even_numbers = [x for x in numbers if x % 2 == 0]\n",
    "\n",
    "print(\"Even numbers:\", even_numbers)\n"
   ]
  },
  {
   "cell_type": "code",
   "execution_count": 23,
   "id": "667b36eb-4f68-472f-b054-4eef0c5c6c2a",
   "metadata": {},
   "outputs": [
    {
     "name": "stdin",
     "output_type": "stream",
     "text": [
      "Enter a number (0 to stop):  4\n",
      "Enter a number (0 to stop):  6\n",
      "Enter a number (0 to stop):  9\n",
      "Enter a number (0 to stop):  0\n"
     ]
    },
    {
     "name": "stdout",
     "output_type": "stream",
     "text": [
      "\n",
      "--- Results ---\n",
      "Total Sum: 19.0\n",
      "Average: 6.333333333333333\n",
      "Maximum: 9.0\n",
      "Minimum: 4.0\n",
      "Standard Deviation: 2.0548046676563256\n"
     ]
    }
   ],
   "source": [
    "import math\n",
    "\n",
    "numbers = []\n",
    "\n",
    "while True:\n",
    "    num = float(input(\"Enter a number (0 to stop): \"))\n",
    "    if num == 0:\n",
    "        break\n",
    "    numbers.append(num)\n",
    "\n",
    "if numbers:\n",
    "    total = sum(numbers)\n",
    "    average = total / len(numbers)\n",
    "    maximum = max(numbers)\n",
    "    minimum = min(numbers)\n",
    "    \n",
    "    # Standard deviation calculation\n",
    "    variance = sum((x - average) ** 2 for x in numbers) / len(numbers)\n",
    "    std_deviation = math.sqrt(variance)\n",
    "    \n",
    "    print(\"\\n--- Results ---\")\n",
    "    print(\"Total Sum:\", total)\n",
    "    print(\"Average:\", average)\n",
    "    print(\"Maximum:\", maximum)\n",
    "    print(\"Minimum:\", minimum)\n",
    "    print(\"Standard Deviation:\", std_deviation)\n",
    "else:\n",
    "    print(\"No numbers were entered.\")\n"
   ]
  },
  {
   "cell_type": "code",
   "execution_count": 24,
   "id": "717ec34f-0644-4189-8766-0fa7db6e6eff",
   "metadata": {},
   "outputs": [
    {
     "name": "stdout",
     "output_type": "stream",
     "text": [
      "{'apple': 3, 'banana': 2, 'orange': 1}\n"
     ]
    }
   ],
   "source": [
    "words = [\"apple\", \"banana\", \"apple\", \"orange\", \"banana\", \"apple\"]\n",
    "\n",
    "# Create an empty dictionary to store word counts\n",
    "word_count = {}\n",
    "\n",
    "# Loop through the list of words\n",
    "for word in words:\n",
    "    if word in word_count:\n",
    "        word_count[word] += 1  # Increase count if word already exists\n",
    "    else:\n",
    "        word_count[word] = 1   # Add new word with count 1\n",
    "\n",
    "# Print the result\n",
    "print(word_count)\n"
   ]
  },
  {
   "cell_type": "code",
   "execution_count": 26,
   "id": "547260d7-e22c-41bd-ac54-a740c0793f24",
   "metadata": {},
   "outputs": [
    {
     "name": "stdout",
     "output_type": "stream",
     "text": [
      "85\n"
     ]
    }
   ],
   "source": [
    "student = {\n",
    "    'name': 'John',\n",
    "    'grades': {\n",
    "        'math': 90,\n",
    "        'science': 85\n",
    "    }\n",
    "}\n",
    "science_grade = student['grades']['science']\n",
    "print(science_grade)\n",
    "\n"
   ]
  },
  {
   "cell_type": "code",
   "execution_count": 27,
   "id": "cfab783a-2bea-4bf7-a178-65d08ad2fce1",
   "metadata": {},
   "outputs": [
    {
     "name": "stdin",
     "output_type": "stream",
     "text": [
      "Enter credit card number:  4567-1234-5678-9123\n"
     ]
    },
    {
     "name": "stdout",
     "output_type": "stream",
     "text": [
      "Valid credit card number.\n"
     ]
    }
   ],
   "source": [
    "def is_valid_credit_card(card_number):\n",
    "    # Remove hyphens and spaces\n",
    "    clean_number = card_number.replace('-', '').replace(' ', '')\n",
    "\n",
    "    # Rule 1: Check length\n",
    "    if len(clean_number) != 16:\n",
    "        return False\n",
    "\n",
    "    # Rule 2: Check all characters are digits\n",
    "    if not clean_number.isdigit():\n",
    "        return False\n",
    "\n",
    "    # Rule 3: Check starting digit\n",
    "    if clean_number[0] not in '456':\n",
    "        return False\n",
    "\n",
    "    return True\n",
    "\n",
    "# Example usage\n",
    "card = input(\"Enter credit card number: \")\n",
    "\n",
    "if is_valid_credit_card(card):\n",
    "    print(\"Valid credit card number.\")\n",
    "else:\n",
    "    print(\"Invalid credit card number.\")\n"
   ]
  },
  {
   "cell_type": "code",
   "execution_count": 28,
   "id": "89acc242-4770-4d4a-8c18-7a8cdcef8e8d",
   "metadata": {},
   "outputs": [
    {
     "name": "stdout",
     "output_type": "stream",
     "text": [
      "True\n",
      "False\n",
      "False\n"
     ]
    }
   ],
   "source": [
    "import re\n",
    "\n",
    "def is_valid_mobile(number):\n",
    "    # This pattern matches exactly 10 digits\n",
    "    pattern = r'^\\d{10}$'\n",
    "    return re.fullmatch(pattern, number) is not None\n",
    "\n",
    "# Test the function\n",
    "print(is_valid_mobile(\"9876543210\")) \n",
    "print(is_valid_mobile(\"12345\"))\n",
    "print(is_valid_mobile(\"98765abc10\"))\n"
   ]
  },
  {
   "cell_type": "code",
   "execution_count": 5,
   "id": "4170fa1a-1254-4291-9532-a81b9c9c98ac",
   "metadata": {},
   "outputs": [
    {
     "name": "stdout",
     "output_type": "stream",
     "text": [
      "Hello World Welcome to 2025 AIOpenAI\n"
     ]
    }
   ],
   "source": [
    "import re\n",
    "\n",
    "text = \"Hello, World! Welcome to 2025. #AI@OpenAI\"\n",
    "cleaned_text = re.sub(r'[^a-zA-Z0-9 ]', '', text)\n",
    "\n",
    "print(cleaned_text)\n"
   ]
  },
  {
   "cell_type": "code",
   "execution_count": 29,
   "id": "c9937bee-c8da-45ff-acc1-080c53472b55",
   "metadata": {},
   "outputs": [
    {
     "name": "stdout",
     "output_type": "stream",
     "text": [
      "Area: 50\n",
      "Perimeter: 30\n"
     ]
    }
   ],
   "source": [
    "class Rectangle:\n",
    "    def __init__(self, length, width):\n",
    "        self.length = length\n",
    "        self.width = width\n",
    "\n",
    "    def area(self):\n",
    "        return self.length * self.width\n",
    "\n",
    "    def perimeter(self):\n",
    "        return 2 * (self.length + self.width)\n",
    "\n",
    "# Example usage:\n",
    "rect = Rectangle(10, 5)\n",
    "\n",
    "print(\"Area:\", rect.area())\n",
    "print(\"Perimeter:\", rect.perimeter())\n"
   ]
  },
  {
   "cell_type": "code",
   "execution_count": 32,
   "id": "ffaf8fa4-fae8-4a27-a94a-4ed5886dfd3e",
   "metadata": {},
   "outputs": [
    {
     "name": "stdout",
     "output_type": "stream",
     "text": [
      "Deposited: 50\n",
      "Withdrew: 30\n",
      "Insufficient balance! Withdrawal denied.\n",
      "Balance: 120\n"
     ]
    }
   ],
   "source": [
    "class BankAccount:\n",
    "    def __init__(self, initial_balance=0):\n",
    "        self.balance = initial_balance\n",
    "\n",
    "    def deposit(self, amount):\n",
    "        if amount > 0:\n",
    "            self.balance += amount\n",
    "            print(f\"Deposited: {amount}\")\n",
    "        else:\n",
    "            print(\"Deposit amount must be positive.\")\n",
    "\n",
    "    def withdraw(self, amount):\n",
    "        if amount <= self.balance:\n",
    "            self.balance -= amount\n",
    "            print(f\"Withdrew: {amount}\")\n",
    "        else:\n",
    "            print(\"Insufficient balance! Withdrawal denied.\")\n",
    "\n",
    "    def get_balance(self):\n",
    "        return self.balance\n",
    "\n",
    "# Example usage:\n",
    "account = BankAccount(100)\n",
    "account.deposit(50)\n",
    "account.withdraw(30)\n",
    "account.withdraw(200)\n",
    "print(\"Balance:\", account.get_balance())\n"
   ]
  },
  {
   "cell_type": "code",
   "execution_count": null,
   "id": "f3610940-5091-45ea-9024-4030f245552f",
   "metadata": {},
   "outputs": [],
   "source": []
  },
  {
   "cell_type": "code",
   "execution_count": null,
   "id": "d6b41d60-1168-43e8-a526-7a50d9c514fe",
   "metadata": {},
   "outputs": [],
   "source": []
  }
 ],
 "metadata": {
  "kernelspec": {
   "display_name": "Python 3 (ipykernel)",
   "language": "python",
   "name": "python3"
  },
  "language_info": {
   "codemirror_mode": {
    "name": "ipython",
    "version": 3
   },
   "file_extension": ".py",
   "mimetype": "text/x-python",
   "name": "python",
   "nbconvert_exporter": "python",
   "pygments_lexer": "ipython3",
   "version": "3.12.4"
  }
 },
 "nbformat": 4,
 "nbformat_minor": 5
}
